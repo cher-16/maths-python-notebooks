{
  "cells": [
    {
      "cell_type": "markdown",
      "metadata": {
        "id": "view-in-github",
        "colab_type": "text"
      },
      "source": [
        "<a href=\"https://colab.research.google.com/github/cher-16/maths-python-notebooks/blob/main/Week_1_Colab_Python_Fundamentals.ipynb\" target=\"_parent\"><img src=\"https://colab.research.google.com/assets/colab-badge.svg\" alt=\"Open In Colab\"/></a>"
      ]
    },
    {
      "cell_type": "markdown",
      "id": "a0629eb6",
      "metadata": {
        "id": "a0629eb6"
      },
      "source": [
        "# 🧠 Week 1: Python Fundamentals with Google Colab\n",
        "\n",
        "Welcome! This notebook will help you get started with Python and Google Colab.\n",
        "By the end of this week, you'll be comfortable with:\n",
        "\n",
        "- Writing variables and expressions\n",
        "- Using conditionals and loops\n",
        "- Defining and using functions\n",
        "- Writing simple math algorithms (factorial, Fibonacci)\n"
      ]
    },
    {
      "cell_type": "code",
      "execution_count": 1,
      "id": "1788ec70",
      "metadata": {
        "colab": {
          "base_uri": "https://localhost:8080/"
        },
        "id": "1788ec70",
        "outputId": "fcdfe3ef-fb36-40e6-dcf7-b658b0b2a951"
      },
      "outputs": [
        {
          "output_type": "stream",
          "name": "stdout",
          "text": [
            "a + b = 8\n",
            "a^2 = 25\n"
          ]
        }
      ],
      "source": [
        "# 🧮 Variables and Expressions\n",
        "a = 5\n",
        "b = 3\n",
        "print(\"a + b =\", a + b)\n",
        "print(\"a^2 =\", a**2)\n"
      ]
    },
    {
      "cell_type": "code",
      "source": [
        "a = 1\n",
        "b = 2\n",
        "c = 3\n",
        "print(\"a + b + c =\", a + b + c)\n",
        "print(\"a^2 + b^2 =\", a**2 + b**2)\n"
      ],
      "metadata": {
        "colab": {
          "base_uri": "https://localhost:8080/"
        },
        "id": "Ptz2li8mknLt",
        "outputId": "a68461bb-0183-4807-c989-c22549e4bf32"
      },
      "id": "Ptz2li8mknLt",
      "execution_count": 6,
      "outputs": [
        {
          "output_type": "stream",
          "name": "stdout",
          "text": [
            "a + b + c = 6\n",
            "a^2 + b^2 = 5\n"
          ]
        }
      ]
    },
    {
      "cell_type": "code",
      "execution_count": 7,
      "id": "8421b2d2",
      "metadata": {
        "colab": {
          "base_uri": "https://localhost:8080/"
        },
        "id": "8421b2d2",
        "outputId": "d6f87b1c-d7e6-4d52-dfa9-6fc52ee5af6f"
      },
      "outputs": [
        {
          "output_type": "stream",
          "name": "stdout",
          "text": [
            "Odd\n"
          ]
        }
      ],
      "source": [
        "# 🔁 Conditionals\n",
        "x = 7\n",
        "if x % 2 == 0:\n",
        "    print(\"Even\")\n",
        "else:\n",
        "    print(\"Odd\")\n"
      ]
    },
    {
      "cell_type": "code",
      "source": [
        "x = 8\n",
        "if x % 2 == 0:\n",
        "    print(\"Even\")\n",
        "else:\n",
        "    print(\"Odd\")"
      ],
      "metadata": {
        "colab": {
          "base_uri": "https://localhost:8080/"
        },
        "id": "NvPEa4KK2Ahy",
        "outputId": "17ab9021-1a4b-439d-88a6-fcbd4a4253b8"
      },
      "id": "NvPEa4KK2Ahy",
      "execution_count": 1,
      "outputs": [
        {
          "output_type": "stream",
          "name": "stdout",
          "text": [
            "Even\n"
          ]
        }
      ]
    },
    {
      "cell_type": "code",
      "execution_count": 8,
      "id": "f9849c85",
      "metadata": {
        "colab": {
          "base_uri": "https://localhost:8080/"
        },
        "id": "f9849c85",
        "outputId": "fa40cf74-793f-4302-b36b-db47a29f026a"
      },
      "outputs": [
        {
          "output_type": "stream",
          "name": "stdout",
          "text": [
            "1\n",
            "2\n",
            "3\n",
            "4\n",
            "5\n"
          ]
        }
      ],
      "source": [
        "# 🔁 Loops: Print numbers 1 to 5\n",
        "for i in range(1, 6):\n",
        "    print(i)\n"
      ]
    },
    {
      "cell_type": "code",
      "source": [
        "for i in range (5, 20):\n",
        "    print (i)"
      ],
      "metadata": {
        "colab": {
          "base_uri": "https://localhost:8080/"
        },
        "id": "WW-lZ3wh2f6o",
        "outputId": "69ec8658-edea-43ee-fff2-ef251a789c12"
      },
      "id": "WW-lZ3wh2f6o",
      "execution_count": 12,
      "outputs": [
        {
          "output_type": "stream",
          "name": "stdout",
          "text": [
            "5\n",
            "6\n",
            "7\n",
            "8\n",
            "9\n",
            "10\n",
            "11\n",
            "12\n",
            "13\n",
            "14\n",
            "15\n",
            "16\n",
            "17\n",
            "18\n",
            "19\n"
          ]
        }
      ]
    },
    {
      "cell_type": "code",
      "source": [
        "my_list = [1, 2, 6, 26]\n",
        "print(my_list)\n",
        "my_list[2] = 8\n",
        "print(my_list)"
      ],
      "metadata": {
        "colab": {
          "base_uri": "https://localhost:8080/"
        },
        "id": "lZjCFyda4aVB",
        "outputId": "9e5e1118-416a-479a-fba6-61ef8a4b2dc9"
      },
      "id": "lZjCFyda4aVB",
      "execution_count": 13,
      "outputs": [
        {
          "output_type": "stream",
          "name": "stdout",
          "text": [
            "[1, 2, 6, 26]\n",
            "[1, 2, 8, 26]\n"
          ]
        }
      ]
    },
    {
      "cell_type": "code",
      "execution_count": 9,
      "id": "7493f81a",
      "metadata": {
        "colab": {
          "base_uri": "https://localhost:8080/"
        },
        "id": "7493f81a",
        "outputId": "c215ce5e-caad-4492-8ceb-62fe4a52e194"
      },
      "outputs": [
        {
          "output_type": "stream",
          "name": "stdout",
          "text": [
            "5! = 120\n"
          ]
        }
      ],
      "source": [
        "# 🧠 Functions: Factorial\n",
        "def factorial(n):\n",
        "    result = 1\n",
        "    for i in range(2, n+1):\n",
        "        result *= i\n",
        "    return result\n",
        "\n",
        "print(\"5! =\", factorial(5))\n"
      ]
    },
    {
      "cell_type": "code",
      "source": [
        "def factorial(n):\n",
        "    result = 1\n",
        "    for i in range(2, n+1):\n",
        "        result *= i\n",
        "    return result\n",
        "\n",
        "print(\"10! =\", factorial(10))"
      ],
      "metadata": {
        "colab": {
          "base_uri": "https://localhost:8080/"
        },
        "id": "LI85OrAd5ceX",
        "outputId": "9c653536-fb2d-4872-a462-040ab731a713"
      },
      "id": "LI85OrAd5ceX",
      "execution_count": 14,
      "outputs": [
        {
          "output_type": "stream",
          "name": "stdout",
          "text": [
            "10! = 3628800\n"
          ]
        }
      ]
    },
    {
      "cell_type": "markdown",
      "id": "73b96bfd",
      "metadata": {
        "id": "73b96bfd"
      },
      "source": [
        "## 🌟 Challenge: Write a function `fibonacci(n)` to compute the n-th Fibonacci number.\n",
        "\n",
        "The Fibonacci sequence starts as:\n",
        "```\n",
        "0, 1, 1, 2, 3, 5, 8, ...\n",
        "```\n",
        "Where:\n",
        "- `fibonacci(0) = 0`\n",
        "- `fibonacci(1) = 1`\n",
        "- `fibonacci(2) = 1`\n",
        "- `fibonacci(3) = 2`\n",
        "- etc.\n",
        "\n",
        "Try solving this below!\n"
      ]
    },
    {
      "cell_type": "code",
      "source": [
        "def fibonacci(n):\n",
        "    a = 0\n",
        "    b = 1\n",
        "    for i in range(2, n+1):\n",
        "        c = a + b\n",
        "        a = b\n",
        "        b = c\n",
        "    return c\n",
        "\n",
        "print(\"fibonacci(5) =\", fibonacci(5))\n",
        ""
      ],
      "metadata": {
        "colab": {
          "base_uri": "https://localhost:8080/"
        },
        "id": "5EA4xI1w8S0O",
        "outputId": "b1e40119-2b2a-4c9e-d14c-b83a6cf4543b"
      },
      "id": "5EA4xI1w8S0O",
      "execution_count": 27,
      "outputs": [
        {
          "output_type": "stream",
          "name": "stdout",
          "text": [
            "fibonacci(5) = 5\n"
          ]
        }
      ]
    },
    {
      "cell_type": "markdown",
      "id": "61e85069",
      "metadata": {
        "id": "61e85069"
      },
      "source": [
        "## 🧪 Quick Quiz\n",
        "\n",
        "1. What is the difference between `==` and `=` in Python?\n",
        "2. What will this code print? Low\n",
        "\n",
        "```python\n",
        "x = 3\n",
        "if x > 5:\n",
        "    print(\"High\")\n",
        "else:\n",
        "    print(\"Low\")\n",
        "```\n",
        "\n",
        "3. What does `range(1, 6)` produce?\n",
        "\n",
        "Write your answers in the next cell.\n"
      ]
    },
    {
      "cell_type": "markdown",
      "id": "6933bc85",
      "metadata": {
        "id": "6933bc85"
      },
      "source": [
        "Your answers here: Low, Low, Low, Low, Low"
      ]
    }
  ],
  "metadata": {
    "colab": {
      "provenance": [],
      "include_colab_link": true
    },
    "language_info": {
      "name": "python"
    },
    "kernelspec": {
      "name": "python3",
      "display_name": "Python 3"
    }
  },
  "nbformat": 4,
  "nbformat_minor": 5
}