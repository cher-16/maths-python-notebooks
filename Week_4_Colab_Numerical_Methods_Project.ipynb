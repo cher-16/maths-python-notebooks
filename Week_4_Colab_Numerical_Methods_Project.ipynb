{
  "cells": [
    {
      "cell_type": "markdown",
      "metadata": {
        "id": "view-in-github",
        "colab_type": "text"
      },
      "source": [
        "<a href=\"https://colab.research.google.com/github/cher-16/maths-python-notebooks/blob/main/Week_4_Colab_Numerical_Methods_Project.ipynb\" target=\"_parent\"><img src=\"https://colab.research.google.com/assets/colab-badge.svg\" alt=\"Open In Colab\"/></a>"
      ]
    },
    {
      "cell_type": "markdown",
      "id": "aefc696b",
      "metadata": {
        "id": "aefc696b"
      },
      "source": [
        "# 🔢 Week 4: Numerical Methods & Math Projects\n",
        "\n",
        "This week you'll:\n",
        "- Learn simple numerical algorithms (like Newton’s Method and Euler’s Method)\n",
        "- Simulate and visualize math models\n",
        "- Start your first math project\n"
      ]
    },
    {
      "cell_type": "code",
      "execution_count": null,
      "id": "6e0a0f34",
      "metadata": {
        "colab": {
          "base_uri": "https://localhost:8080/"
        },
        "id": "6e0a0f34",
        "outputId": "be6b7b8e-8480-4507-efa5-32c0e98042e2"
      },
      "outputs": [
        {
          "output_type": "stream",
          "name": "stdout",
          "text": [
            "Root of x^2 - 2 ≈ 1.4142135623730951\n"
          ]
        }
      ],
      "source": [
        "import numpy as np\n",
        "\n",
        "def f(x):\n",
        "    return x**2 - 2\n",
        "\n",
        "def f_prime(x):\n",
        "    return 2*x\n",
        "\n",
        "def newton_method(x0, tol=1e-6, max_iter=10):\n",
        "    x = x0\n",
        "    for i in range(max_iter):\n",
        "        x_new = x - f(x)/f_prime(x)\n",
        "        if abs(x_new - x) < tol:\n",
        "            return x_new\n",
        "        x = x_new\n",
        "    return x\n",
        "\n",
        "print(\"Root of x^2 - 2 ≈\", newton_method(1.0))\n"
      ]
    },
    {
      "cell_type": "code",
      "execution_count": null,
      "id": "b027393b",
      "metadata": {
        "id": "b027393b"
      },
      "outputs": [],
      "source": [
        "import matplotlib.pyplot as plt\n",
        "\n",
        "# dy/dx = y, y(0) = 1\n",
        "def euler(dydx, x0, y0, h, steps):\n",
        "    xs, ys = [x0], [y0]\n",
        "    for _ in range(steps):\n",
        "        y0 += h * dydx(x0, y0)\n",
        "        x0 += h\n",
        "        xs.append(x0)\n",
        "        ys.append(y0)\n",
        "    return xs, ys\n",
        "\n",
        "def dydx(x, y):\n",
        "    return y\n",
        "\n",
        "xs, ys = euler(dydx, 0, 1, 0.1, 20)\n",
        "plt.plot(xs, ys, label=\"Euler Approximation\")\n",
        "plt.title(\"Euler's Method for dy/dx = y\")\n",
        "plt.xlabel(\"x\")\n",
        "plt.ylabel(\"y\")\n",
        "plt.legend()\n",
        "plt.show()\n"
      ]
    },
    {
      "cell_type": "markdown",
      "id": "e1b8a55e",
      "metadata": {
        "id": "e1b8a55e"
      },
      "source": [
        "## 🌟 Final Challenge: Mini Math Project\n",
        "\n",
        "1. Pick a simple equation or model to explore (e.g. logistic growth, harmonic motion)\n",
        "2. Simulate it using Python\n",
        "3. Plot the results\n",
        "4. Write 3 sentences explaining what you learned\n"
      ]
    },
    {
      "cell_type": "code",
      "execution_count": 9,
      "id": "d2884053",
      "metadata": {
        "colab": {
          "base_uri": "https://localhost:8080/",
          "height": 472
        },
        "id": "d2884053",
        "outputId": "c46fae71-5510-475a-e7e0-59c0a5c2064d"
      },
      "outputs": [
        {
          "output_type": "display_data",
          "data": {
            "text/plain": [
              "<Figure size 640x480 with 1 Axes>"
            ],
            "image/png": "[encoded data removed]"
          },
          "metadata": {}
        }
      ],
      "source": [
        "# Your math project code here\n",
        "\n",
        "import matplotlib.pyplot as plt\n",
        "\n",
        "def logistic_growth(t, y, r=1, K=100):\n",
        "    return r * y * (1 - y / K)\n",
        "\n",
        "def euler(dydt, t0, y0, h, steps):\n",
        "    ts, ys  = [t0], [y0]\n",
        "    for _ in range(steps):\n",
        "        y0 += h * dydt(t0, y0)\n",
        "        t0 += h\n",
        "        ts.append(t0)\n",
        "        ys.append(y0)\n",
        "    return ts, ys\n",
        "\n",
        "t0 = 0\n",
        "y0 = 5\n",
        "h = 0.1\n",
        "steps = 100\n",
        "\n",
        "ts, ys = euler(logistic_growth, t0, y0, h, steps)\n",
        "\n",
        "plt.plot(ts, ys, label=\"Population Growth\")\n",
        "plt.title(\"Population Growth Model\")\n",
        "plt.xlabel(\"Time\")\n",
        "plt.ylabel(\"Population\")\n",
        "plt.legend()\n",
        "plt.show()\n",
        "\n",
        "\n",
        "\n",
        "\n"
      ]
    }
  ],
  "metadata": {
    "colab": {
      "provenance": [],
      "include_colab_link": true
    },
    "language_info": {
      "name": "python"
    },
    "kernelspec": {
      "name": "python3",
      "display_name": "Python 3"
    }
  },
  "nbformat": 4,
  "nbformat_minor": 5
}