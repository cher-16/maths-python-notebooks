{
  "cells": [
    {
      "cell_type": "markdown",
      "metadata": {
        "id": "view-in-github",
        "colab_type": "text"
      },
      "source": [
        "<a href=\"https://colab.research.google.com/github/cher-16/maths-python-notebooks/blob/main/Week_2_Colab_NumPy_SymPy.ipynb\" target=\"_parent\"><img src=\"https://colab.research.google.com/assets/colab-badge.svg\" alt=\"Open In Colab\"/></a>"
      ]
    },
    {
      "cell_type": "markdown",
      "id": "5a1cc078",
      "metadata": {
        "id": "5a1cc078"
      },
      "source": [
        "# 🧠 Week 2: Math with Python - NumPy & SymPy\n",
        "\n",
        "Welcome to Week 2! This week you'll learn how to use:\n",
        "\n",
        "- **NumPy** for numerical and linear algebra computations\n",
        "- **SymPy** for symbolic algebra, solving equations, and calculus\n",
        "\n",
        "By the end of this notebook, you’ll be able to:\n",
        "- Perform vector and matrix operations using NumPy\n",
        "- Solve equations and compute derivatives using SymPy\n"
      ]
    },
    {
      "cell_type": "markdown",
      "id": "ddd80c2b",
      "metadata": {
        "id": "ddd80c2b"
      },
      "source": [
        "## 🔢 NumPy Basics\n",
        "\n",
        "Let's start with arrays and basic operations.\n"
      ]
    },
    {
      "cell_type": "code",
      "execution_count": null,
      "id": "5e761fd0",
      "metadata": {
        "colab": {
          "base_uri": "https://localhost:8080/"
        },
        "id": "5e761fd0",
        "outputId": "15e08709-df79-4d92-e8a7-f94951b0a0ff"
      },
      "outputs": [
        {
          "output_type": "stream",
          "name": "stdout",
          "text": [
            "v + w = [5 7 9]\n",
            "Dot product: 32\n",
            "Matrix A:\n",
            " [[1 2]\n",
            " [3 4]]\n",
            "Transpose\n",
            ": [[1 3]\n",
            " [2 4]]\n",
            "Inverse:\n",
            " [[-2.   1. ]\n",
            " [ 1.5 -0.5]]\n"
          ]
        }
      ],
      "source": [
        "import numpy as np\n",
        "\n",
        "# Create vectors\n",
        "v = np.array([1, 2, 3])\n",
        "w = np.array([4, 5, 6])\n",
        "\n",
        "# Vector addition\n",
        "print(\"v + w =\", v + w)\n",
        "\n",
        "# Dot product\n",
        "print(\"Dot product:\", np.dot(v, w))\n",
        "\n",
        "# Create a matrix\n",
        "A = np.array([[1, 2], [3, 4]])\n",
        "print(\"Matrix A:\\n\", A)\n",
        "\n",
        "# Transpose and inverse\n",
        "print(\"Transpose\\n:\", A.T)\n",
        "print(\"Inverse:\\n\", np.linalg.inv(A))\n"
      ]
    },
    {
      "cell_type": "markdown",
      "id": "829380da",
      "metadata": {
        "id": "829380da"
      },
      "source": [
        "## 🌟 NumPy Challenge\n",
        "\n",
        "1. Create a 3x3 matrix `B` with values from 1 to 9.\n",
        "2. Compute its determinant.\n",
        "3. Compute its eigenvalues and eigenvectors.\n"
      ]
    },
    {
      "cell_type": "code",
      "source": [
        "# Your NumPy challenge code here\n",
        "import numpy as np\n",
        "from numpy import linalg as LA\n",
        "\n",
        "# Define matrix B\n",
        "B = np.array([[1, 2, 3], [4, 5, 6], [7, 8, 9]])\n",
        "print(\"Matrix B:\\n\", B)\n",
        "\n",
        "# Compute the determinant of B\n",
        "det_B = LA.det(B)\n",
        "print(\"Determinant of B:\\n\", det_B)\n",
        "\n",
        "# Compute the eigenvalues and eigenvectors of B\n",
        "eigvals, eigvecs = LA.eig(B)\n",
        "print(\"\\nEigenvalues of B:\\n\", eigvals)\n",
        "print(\"\\nEigenvectors of B:\\n\", eigvecs)\n"
      ],
      "metadata": {
        "colab": {
          "base_uri": "https://localhost:8080/"
        },
        "id": "tvJFlkyojfFf",
        "outputId": "a9f5564f-f230-4dc4-ebc5-870a604009ef"
      },
      "id": "tvJFlkyojfFf",
      "execution_count": 16,
      "outputs": [
        {
          "output_type": "stream",
          "name": "stdout",
          "text": [
            "Matrix B:\n",
            " [[1 2 3]\n",
            " [4 5 6]\n",
            " [7 8 9]]\n",
            "Determinant of B:\n",
            " 0.0\n",
            "\n",
            "Eigenvalues of B:\n",
            " [ 1.61168440e+01 -1.11684397e+00 -1.30367773e-15]\n",
            "\n",
            "Eigenvectors of B:\n",
            " [[-0.23197069 -0.78583024  0.40824829]\n",
            " [-0.52532209 -0.08675134 -0.81649658]\n",
            " [-0.8186735   0.61232756  0.40824829]]\n"
          ]
        }
      ]
    },
    {
      "cell_type": "markdown",
      "id": "9884456d",
      "metadata": {
        "id": "9884456d"
      },
      "source": [
        "## 🧠 SymPy Basics\n",
        "\n",
        "Now let’s explore symbolic math using SymPy.\n"
      ]
    },
    {
      "cell_type": "code",
      "execution_count": null,
      "id": "a093b2a2",
      "metadata": {
        "id": "a093b2a2"
      },
      "outputs": [],
      "source": [
        "import sympy as sp\n",
        "\n",
        "# Define a symbol\n",
        "x = sp.Symbol('x')\n",
        "\n",
        "# Define a function\n",
        "f = x**3 + 2*x**2 + x + 1\n",
        "\n",
        "# Derivative\n",
        "f_prime = sp.diff(f, x)\n",
        "print(\"f'(x) =\", f_prime)\n",
        "\n",
        "# Integral\n",
        "f_int = sp.integrate(f, x)\n",
        "print(\"∫f(x) dx =\", f_int)\n",
        "\n",
        "# Solve an equation\n",
        "solution = sp.solve(x**2 - 2, x)\n",
        "print(\"Solutions to x^2 - 2 = 0:\", solution)\n"
      ]
    },
    {
      "cell_type": "markdown",
      "id": "129ff681",
      "metadata": {
        "id": "129ff681"
      },
      "source": [
        "## 🌟 SymPy Challenge\n",
        "\n",
        "1. Define a new function `g(x) = sin(x) * e^x`.\n",
        "2. Compute its derivative.\n",
        "3. Compute the definite integral from 0 to π.\n",
        "\n",
        "Use `sp.sin(x)` and `sp.exp(x)`.\n"
      ]
    },
    {
      "cell_type": "code",
      "execution_count": 17,
      "id": "ef3eb0d0",
      "metadata": {
        "id": "ef3eb0d0",
        "colab": {
          "base_uri": "https://localhost:8080/"
        },
        "outputId": "8c333dde-d8f4-444b-bf10-4b264fbbc8b7"
      },
      "outputs": [
        {
          "output_type": "stream",
          "name": "stdout",
          "text": [
            "g'(x) = exp(x)*sin(x) + exp(x)*cos(x)\n",
            "∫g(x) dx = 1/2 + exp(pi)/2\n"
          ]
        }
      ],
      "source": [
        "# Your SymPy challenge code here\n",
        "import sympy as sp\n",
        "\n",
        "# Define a symbol\n",
        "x = sp.Symbol('x')\n",
        "\n",
        "# Define a function\n",
        "g = sp.sin(x) * sp.exp(x)\n",
        "\n",
        "# Derivative\n",
        "g_prime = sp.diff(g, x)\n",
        "print(\"g'(x) =\", g_prime)\n",
        "\n",
        "# Integral (Definite)\n",
        "g_int = sp.integrate(g, (x, 0, sp.pi))\n",
        "print(\"∫g(x) dx =\", g_int)"
      ]
    },
    {
      "cell_type": "markdown",
      "id": "d192f739",
      "metadata": {
        "id": "d192f739"
      },
      "source": [
        "## 🧪 Quick Quiz\n",
        "\n",
        "1. What's the difference between `np.dot()` and `np.multiply()`?\n",
        "2. What does `sp.solve()` do?\n",
        "3. What does `np.linalg.inv()` return?\n"
      ]
    },
    {
      "cell_type": "markdown",
      "id": "d42d2746",
      "metadata": {
        "id": "d42d2746"
      },
      "source": [
        "Your answers here:\n",
        "\n",
        "1. np.dot() gives dot product of two arrays, and np.multiply() performs element-wise multiplication two arrays.\n",
        "\n",
        "2. sp.solve() solves a system of linear equations represented by ax = b, where a is a square matrix and b is a vector or matrix.\n",
        "\n",
        "3. np.linalg.inv() returns inverse matrix of the given square matrix.\n"
      ]
    }
  ],
  "metadata": {
    "colab": {
      "provenance": [],
      "include_colab_link": true
    },
    "language_info": {
      "name": "python"
    },
    "kernelspec": {
      "name": "python3",
      "display_name": "Python 3"
    }
  },
  "nbformat": 4,
  "nbformat_minor": 5
}